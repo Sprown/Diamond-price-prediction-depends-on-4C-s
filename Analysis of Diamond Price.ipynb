{
 "cells": [
  {
   "cell_type": "markdown",
   "id": "3b6fca74",
   "metadata": {},
   "source": [
    "# Diamond price analysis based on 4C's via Machine Learning Model"
   ]
  },
  {
   "cell_type": "code",
   "execution_count": 1,
   "id": "51429f96",
   "metadata": {},
   "outputs": [],
   "source": [
    "# Import necessary python libraries\n",
    "import pandas as pd\n",
    "import numpy as np\n",
    "import matplotlib.pyplot as plt\n",
    "import seaborn as sns"
   ]
  },
  {
   "cell_type": "code",
   "execution_count": 2,
   "id": "66d4d19d",
   "metadata": {},
   "outputs": [],
   "source": [
    "data = pd.read_csv(\"diamonds.csv\")"
   ]
  },
  {
   "cell_type": "code",
   "execution_count": 3,
   "id": "943ca11b",
   "metadata": {},
   "outputs": [
    {
     "data": {
      "text/html": [
       "<div>\n",
       "<style scoped>\n",
       "    .dataframe tbody tr th:only-of-type {\n",
       "        vertical-align: middle;\n",
       "    }\n",
       "\n",
       "    .dataframe tbody tr th {\n",
       "        vertical-align: top;\n",
       "    }\n",
       "\n",
       "    .dataframe thead th {\n",
       "        text-align: right;\n",
       "    }\n",
       "</style>\n",
       "<table border=\"1\" class=\"dataframe\">\n",
       "  <thead>\n",
       "    <tr style=\"text-align: right;\">\n",
       "      <th></th>\n",
       "      <th>Unnamed: 0</th>\n",
       "      <th>carat</th>\n",
       "      <th>cut</th>\n",
       "      <th>color</th>\n",
       "      <th>clarity</th>\n",
       "      <th>depth</th>\n",
       "      <th>table</th>\n",
       "      <th>price</th>\n",
       "      <th>x</th>\n",
       "      <th>y</th>\n",
       "      <th>z</th>\n",
       "    </tr>\n",
       "  </thead>\n",
       "  <tbody>\n",
       "    <tr>\n",
       "      <th>0</th>\n",
       "      <td>1</td>\n",
       "      <td>0.23</td>\n",
       "      <td>Ideal</td>\n",
       "      <td>E</td>\n",
       "      <td>SI2</td>\n",
       "      <td>61.5</td>\n",
       "      <td>55.0</td>\n",
       "      <td>326</td>\n",
       "      <td>3.95</td>\n",
       "      <td>3.98</td>\n",
       "      <td>2.43</td>\n",
       "    </tr>\n",
       "    <tr>\n",
       "      <th>1</th>\n",
       "      <td>2</td>\n",
       "      <td>0.21</td>\n",
       "      <td>Premium</td>\n",
       "      <td>E</td>\n",
       "      <td>SI1</td>\n",
       "      <td>59.8</td>\n",
       "      <td>61.0</td>\n",
       "      <td>326</td>\n",
       "      <td>3.89</td>\n",
       "      <td>3.84</td>\n",
       "      <td>2.31</td>\n",
       "    </tr>\n",
       "    <tr>\n",
       "      <th>2</th>\n",
       "      <td>3</td>\n",
       "      <td>0.23</td>\n",
       "      <td>Good</td>\n",
       "      <td>E</td>\n",
       "      <td>VS1</td>\n",
       "      <td>56.9</td>\n",
       "      <td>65.0</td>\n",
       "      <td>327</td>\n",
       "      <td>4.05</td>\n",
       "      <td>4.07</td>\n",
       "      <td>2.31</td>\n",
       "    </tr>\n",
       "    <tr>\n",
       "      <th>3</th>\n",
       "      <td>4</td>\n",
       "      <td>0.29</td>\n",
       "      <td>Premium</td>\n",
       "      <td>I</td>\n",
       "      <td>VS2</td>\n",
       "      <td>62.4</td>\n",
       "      <td>58.0</td>\n",
       "      <td>334</td>\n",
       "      <td>4.20</td>\n",
       "      <td>4.23</td>\n",
       "      <td>2.63</td>\n",
       "    </tr>\n",
       "    <tr>\n",
       "      <th>4</th>\n",
       "      <td>5</td>\n",
       "      <td>0.31</td>\n",
       "      <td>Good</td>\n",
       "      <td>J</td>\n",
       "      <td>SI2</td>\n",
       "      <td>63.3</td>\n",
       "      <td>58.0</td>\n",
       "      <td>335</td>\n",
       "      <td>4.34</td>\n",
       "      <td>4.35</td>\n",
       "      <td>2.75</td>\n",
       "    </tr>\n",
       "    <tr>\n",
       "      <th>5</th>\n",
       "      <td>6</td>\n",
       "      <td>0.24</td>\n",
       "      <td>Very Good</td>\n",
       "      <td>J</td>\n",
       "      <td>VVS2</td>\n",
       "      <td>62.8</td>\n",
       "      <td>57.0</td>\n",
       "      <td>336</td>\n",
       "      <td>3.94</td>\n",
       "      <td>3.96</td>\n",
       "      <td>2.48</td>\n",
       "    </tr>\n",
       "    <tr>\n",
       "      <th>6</th>\n",
       "      <td>7</td>\n",
       "      <td>0.24</td>\n",
       "      <td>Very Good</td>\n",
       "      <td>I</td>\n",
       "      <td>VVS1</td>\n",
       "      <td>62.3</td>\n",
       "      <td>57.0</td>\n",
       "      <td>336</td>\n",
       "      <td>3.95</td>\n",
       "      <td>3.98</td>\n",
       "      <td>2.47</td>\n",
       "    </tr>\n",
       "    <tr>\n",
       "      <th>7</th>\n",
       "      <td>8</td>\n",
       "      <td>0.26</td>\n",
       "      <td>Very Good</td>\n",
       "      <td>H</td>\n",
       "      <td>SI1</td>\n",
       "      <td>61.9</td>\n",
       "      <td>55.0</td>\n",
       "      <td>337</td>\n",
       "      <td>4.07</td>\n",
       "      <td>4.11</td>\n",
       "      <td>2.53</td>\n",
       "    </tr>\n",
       "    <tr>\n",
       "      <th>8</th>\n",
       "      <td>9</td>\n",
       "      <td>0.22</td>\n",
       "      <td>Fair</td>\n",
       "      <td>E</td>\n",
       "      <td>VS2</td>\n",
       "      <td>65.1</td>\n",
       "      <td>61.0</td>\n",
       "      <td>337</td>\n",
       "      <td>3.87</td>\n",
       "      <td>3.78</td>\n",
       "      <td>2.49</td>\n",
       "    </tr>\n",
       "    <tr>\n",
       "      <th>9</th>\n",
       "      <td>10</td>\n",
       "      <td>0.23</td>\n",
       "      <td>Very Good</td>\n",
       "      <td>H</td>\n",
       "      <td>VS1</td>\n",
       "      <td>59.4</td>\n",
       "      <td>61.0</td>\n",
       "      <td>338</td>\n",
       "      <td>4.00</td>\n",
       "      <td>4.05</td>\n",
       "      <td>2.39</td>\n",
       "    </tr>\n",
       "  </tbody>\n",
       "</table>\n",
       "</div>"
      ],
      "text/plain": [
       "   Unnamed: 0  carat        cut color clarity  depth  table  price     x  \\\n",
       "0           1   0.23      Ideal     E     SI2   61.5   55.0    326  3.95   \n",
       "1           2   0.21    Premium     E     SI1   59.8   61.0    326  3.89   \n",
       "2           3   0.23       Good     E     VS1   56.9   65.0    327  4.05   \n",
       "3           4   0.29    Premium     I     VS2   62.4   58.0    334  4.20   \n",
       "4           5   0.31       Good     J     SI2   63.3   58.0    335  4.34   \n",
       "5           6   0.24  Very Good     J    VVS2   62.8   57.0    336  3.94   \n",
       "6           7   0.24  Very Good     I    VVS1   62.3   57.0    336  3.95   \n",
       "7           8   0.26  Very Good     H     SI1   61.9   55.0    337  4.07   \n",
       "8           9   0.22       Fair     E     VS2   65.1   61.0    337  3.87   \n",
       "9          10   0.23  Very Good     H     VS1   59.4   61.0    338  4.00   \n",
       "\n",
       "      y     z  \n",
       "0  3.98  2.43  \n",
       "1  3.84  2.31  \n",
       "2  4.07  2.31  \n",
       "3  4.23  2.63  \n",
       "4  4.35  2.75  \n",
       "5  3.96  2.48  \n",
       "6  3.98  2.47  \n",
       "7  4.11  2.53  \n",
       "8  3.78  2.49  \n",
       "9  4.05  2.39  "
      ]
     },
     "execution_count": 3,
     "metadata": {},
     "output_type": "execute_result"
    }
   ],
   "source": [
    "data.head(10)"
   ]
  },
  {
   "cell_type": "code",
   "execution_count": 4,
   "id": "f070483a",
   "metadata": {},
   "outputs": [
    {
     "data": {
      "text/plain": [
       "(53940, 11)"
      ]
     },
     "execution_count": 4,
     "metadata": {},
     "output_type": "execute_result"
    }
   ],
   "source": [
    "data.shape"
   ]
  },
  {
   "cell_type": "code",
   "execution_count": 5,
   "id": "0b8963a5",
   "metadata": {},
   "outputs": [
    {
     "data": {
      "text/html": [
       "<div>\n",
       "<style scoped>\n",
       "    .dataframe tbody tr th:only-of-type {\n",
       "        vertical-align: middle;\n",
       "    }\n",
       "\n",
       "    .dataframe tbody tr th {\n",
       "        vertical-align: top;\n",
       "    }\n",
       "\n",
       "    .dataframe thead th {\n",
       "        text-align: right;\n",
       "    }\n",
       "</style>\n",
       "<table border=\"1\" class=\"dataframe\">\n",
       "  <thead>\n",
       "    <tr style=\"text-align: right;\">\n",
       "      <th></th>\n",
       "      <th>Unnamed: 0</th>\n",
       "      <th>carat</th>\n",
       "      <th>cut</th>\n",
       "      <th>color</th>\n",
       "      <th>clarity</th>\n",
       "      <th>depth</th>\n",
       "      <th>table</th>\n",
       "      <th>price</th>\n",
       "      <th>x</th>\n",
       "      <th>y</th>\n",
       "      <th>z</th>\n",
       "      <th>price(rs)</th>\n",
       "    </tr>\n",
       "  </thead>\n",
       "  <tbody>\n",
       "    <tr>\n",
       "      <th>0</th>\n",
       "      <td>1</td>\n",
       "      <td>0.23</td>\n",
       "      <td>Ideal</td>\n",
       "      <td>E</td>\n",
       "      <td>SI2</td>\n",
       "      <td>61.5</td>\n",
       "      <td>55.0</td>\n",
       "      <td>326</td>\n",
       "      <td>3.95</td>\n",
       "      <td>3.98</td>\n",
       "      <td>2.43</td>\n",
       "      <td>26953.68</td>\n",
       "    </tr>\n",
       "    <tr>\n",
       "      <th>1</th>\n",
       "      <td>2</td>\n",
       "      <td>0.21</td>\n",
       "      <td>Premium</td>\n",
       "      <td>E</td>\n",
       "      <td>SI1</td>\n",
       "      <td>59.8</td>\n",
       "      <td>61.0</td>\n",
       "      <td>326</td>\n",
       "      <td>3.89</td>\n",
       "      <td>3.84</td>\n",
       "      <td>2.31</td>\n",
       "      <td>26953.68</td>\n",
       "    </tr>\n",
       "    <tr>\n",
       "      <th>2</th>\n",
       "      <td>3</td>\n",
       "      <td>0.23</td>\n",
       "      <td>Good</td>\n",
       "      <td>E</td>\n",
       "      <td>VS1</td>\n",
       "      <td>56.9</td>\n",
       "      <td>65.0</td>\n",
       "      <td>327</td>\n",
       "      <td>4.05</td>\n",
       "      <td>4.07</td>\n",
       "      <td>2.31</td>\n",
       "      <td>27036.36</td>\n",
       "    </tr>\n",
       "    <tr>\n",
       "      <th>3</th>\n",
       "      <td>4</td>\n",
       "      <td>0.29</td>\n",
       "      <td>Premium</td>\n",
       "      <td>I</td>\n",
       "      <td>VS2</td>\n",
       "      <td>62.4</td>\n",
       "      <td>58.0</td>\n",
       "      <td>334</td>\n",
       "      <td>4.20</td>\n",
       "      <td>4.23</td>\n",
       "      <td>2.63</td>\n",
       "      <td>27615.12</td>\n",
       "    </tr>\n",
       "    <tr>\n",
       "      <th>4</th>\n",
       "      <td>5</td>\n",
       "      <td>0.31</td>\n",
       "      <td>Good</td>\n",
       "      <td>J</td>\n",
       "      <td>SI2</td>\n",
       "      <td>63.3</td>\n",
       "      <td>58.0</td>\n",
       "      <td>335</td>\n",
       "      <td>4.34</td>\n",
       "      <td>4.35</td>\n",
       "      <td>2.75</td>\n",
       "      <td>27697.80</td>\n",
       "    </tr>\n",
       "    <tr>\n",
       "      <th>5</th>\n",
       "      <td>6</td>\n",
       "      <td>0.24</td>\n",
       "      <td>Very Good</td>\n",
       "      <td>J</td>\n",
       "      <td>VVS2</td>\n",
       "      <td>62.8</td>\n",
       "      <td>57.0</td>\n",
       "      <td>336</td>\n",
       "      <td>3.94</td>\n",
       "      <td>3.96</td>\n",
       "      <td>2.48</td>\n",
       "      <td>27780.48</td>\n",
       "    </tr>\n",
       "    <tr>\n",
       "      <th>6</th>\n",
       "      <td>7</td>\n",
       "      <td>0.24</td>\n",
       "      <td>Very Good</td>\n",
       "      <td>I</td>\n",
       "      <td>VVS1</td>\n",
       "      <td>62.3</td>\n",
       "      <td>57.0</td>\n",
       "      <td>336</td>\n",
       "      <td>3.95</td>\n",
       "      <td>3.98</td>\n",
       "      <td>2.47</td>\n",
       "      <td>27780.48</td>\n",
       "    </tr>\n",
       "    <tr>\n",
       "      <th>7</th>\n",
       "      <td>8</td>\n",
       "      <td>0.26</td>\n",
       "      <td>Very Good</td>\n",
       "      <td>H</td>\n",
       "      <td>SI1</td>\n",
       "      <td>61.9</td>\n",
       "      <td>55.0</td>\n",
       "      <td>337</td>\n",
       "      <td>4.07</td>\n",
       "      <td>4.11</td>\n",
       "      <td>2.53</td>\n",
       "      <td>27863.16</td>\n",
       "    </tr>\n",
       "    <tr>\n",
       "      <th>8</th>\n",
       "      <td>9</td>\n",
       "      <td>0.22</td>\n",
       "      <td>Fair</td>\n",
       "      <td>E</td>\n",
       "      <td>VS2</td>\n",
       "      <td>65.1</td>\n",
       "      <td>61.0</td>\n",
       "      <td>337</td>\n",
       "      <td>3.87</td>\n",
       "      <td>3.78</td>\n",
       "      <td>2.49</td>\n",
       "      <td>27863.16</td>\n",
       "    </tr>\n",
       "    <tr>\n",
       "      <th>9</th>\n",
       "      <td>10</td>\n",
       "      <td>0.23</td>\n",
       "      <td>Very Good</td>\n",
       "      <td>H</td>\n",
       "      <td>VS1</td>\n",
       "      <td>59.4</td>\n",
       "      <td>61.0</td>\n",
       "      <td>338</td>\n",
       "      <td>4.00</td>\n",
       "      <td>4.05</td>\n",
       "      <td>2.39</td>\n",
       "      <td>27945.84</td>\n",
       "    </tr>\n",
       "  </tbody>\n",
       "</table>\n",
       "</div>"
      ],
      "text/plain": [
       "   Unnamed: 0  carat        cut color clarity  depth  table  price     x  \\\n",
       "0           1   0.23      Ideal     E     SI2   61.5   55.0    326  3.95   \n",
       "1           2   0.21    Premium     E     SI1   59.8   61.0    326  3.89   \n",
       "2           3   0.23       Good     E     VS1   56.9   65.0    327  4.05   \n",
       "3           4   0.29    Premium     I     VS2   62.4   58.0    334  4.20   \n",
       "4           5   0.31       Good     J     SI2   63.3   58.0    335  4.34   \n",
       "5           6   0.24  Very Good     J    VVS2   62.8   57.0    336  3.94   \n",
       "6           7   0.24  Very Good     I    VVS1   62.3   57.0    336  3.95   \n",
       "7           8   0.26  Very Good     H     SI1   61.9   55.0    337  4.07   \n",
       "8           9   0.22       Fair     E     VS2   65.1   61.0    337  3.87   \n",
       "9          10   0.23  Very Good     H     VS1   59.4   61.0    338  4.00   \n",
       "\n",
       "      y     z  price(rs)  \n",
       "0  3.98  2.43   26953.68  \n",
       "1  3.84  2.31   26953.68  \n",
       "2  4.07  2.31   27036.36  \n",
       "3  4.23  2.63   27615.12  \n",
       "4  4.35  2.75   27697.80  \n",
       "5  3.96  2.48   27780.48  \n",
       "6  3.98  2.47   27780.48  \n",
       "7  4.11  2.53   27863.16  \n",
       "8  3.78  2.49   27863.16  \n",
       "9  4.05  2.39   27945.84  "
      ]
     },
     "execution_count": 5,
     "metadata": {},
     "output_type": "execute_result"
    }
   ],
   "source": [
    "data['price(rs)'] = data['price']*82.68 \n",
    "data.head(10)"
   ]
  },
  {
   "cell_type": "markdown",
   "id": "4c8620a3",
   "metadata": {},
   "source": [
    "### Question 1: What is the relationship between the carat and the price of the diamond ?"
   ]
  },
  {
   "cell_type": "code",
   "execution_count": 6,
   "id": "55f74521",
   "metadata": {},
   "outputs": [
    {
     "data": {
      "image/png": "[encoded data removed]",
      "text/plain": [
       "<Figure size 640x480 with 2 Axes>"
      ]
     },
     "metadata": {},
     "output_type": "display_data"
    }
   ],
   "source": [
    "result = data.groupby('carat').count()\n",
    "result.head()\n",
    "carat = [carat for carat,data in data.groupby('carat')]\n",
    "\n",
    "plt.subplot(1, 2, 1)  # row 1, column 2, count 1 \n",
    "\n",
    "# b is for blue color\n",
    "plt.scatter(data[\"carat\"],data[\"price(rs)\"])\n",
    "plt.title('Carat vs Price of Diamond')\n",
    "plt.xlabel('Carat')\n",
    "plt.ylabel('Price')\n",
    "plt.gcf().axes[0].yaxis.get_major_formatter().set_scientific(False)\n",
    "\n",
    "# using subplot function and creating plot two\n",
    "# row 1, column 2, count 2\n",
    "plt.subplot(1, 2, 2)\n",
    " \n",
    "plt.plot(carat,result[\"cut\"],'r')\n",
    "plt.ylabel('Quantity')\n",
    "plt.title('Quantity vs Carat of Diamond')\n",
    "plt.xlabel('Carat')\n",
    "plt.grid()\n",
    "# space between the plots\n",
    "plt.tight_layout(pad=2.0)\n",
    "# show plot\n",
    "plt.show()"
   ]
  },
  {
   "cell_type": "markdown",
   "id": "ee2a89da",
   "metadata": {},
   "source": [
    "### 1) In our Data we can see that we have more lower carat diamonds rather then higher. \n",
    "### 2) We can see a relationship between the carats and the price of a diamond. It means higher carats result in higher prices."
   ]
  },
  {
   "cell_type": "markdown",
   "id": "4841331e",
   "metadata": {},
   "source": [
    "### Question 3: What is the relation between cut and price of diamond depend on different colors ?"
   ]
  },
  {
   "cell_type": "code",
   "execution_count": 7,
   "id": "331e8179",
   "metadata": {},
   "outputs": [
    {
     "name": "stdout",
     "output_type": "stream",
     "text": [
      "['Ideal' 'Premium' 'Good' 'Very Good' 'Fair']\n"
     ]
    }
   ],
   "source": [
    "print(data['cut'].unique())"
   ]
  },
  {
   "cell_type": "code",
   "execution_count": 8,
   "id": "225a688d",
   "metadata": {},
   "outputs": [
    {
     "name": "stderr",
     "output_type": "stream",
     "text": [
      "C:\\Users\\nitin\\AppData\\Local\\Temp\\ipykernel_6312\\2299203109.py:3: FutureWarning: The default value of numeric_only in DataFrameGroupBy.mean is deprecated. In a future version, numeric_only will default to False. Either specify numeric_only or select only columns which should be valid for the function.\n",
      "  df1 = df1.groupby(['cut']).mean()\n",
      "C:\\Users\\nitin\\AppData\\Local\\Temp\\ipykernel_6312\\2299203109.py:8: FutureWarning: The default value of numeric_only in DataFrameGroupBy.mean is deprecated. In a future version, numeric_only will default to False. Either specify numeric_only or select only columns which should be valid for the function.\n",
      "  df2 = df2.groupby(['cut']).mean()\n",
      "C:\\Users\\nitin\\AppData\\Local\\Temp\\ipykernel_6312\\2299203109.py:13: FutureWarning: The default value of numeric_only in DataFrameGroupBy.mean is deprecated. In a future version, numeric_only will default to False. Either specify numeric_only or select only columns which should be valid for the function.\n",
      "  df3 = df3.groupby(['cut']).mean()\n",
      "C:\\Users\\nitin\\AppData\\Local\\Temp\\ipykernel_6312\\2299203109.py:18: FutureWarning: The default value of numeric_only in DataFrameGroupBy.mean is deprecated. In a future version, numeric_only will default to False. Either specify numeric_only or select only columns which should be valid for the function.\n",
      "  df4 = df4.groupby(['cut']).mean()\n",
      "C:\\Users\\nitin\\AppData\\Local\\Temp\\ipykernel_6312\\2299203109.py:23: FutureWarning: The default value of numeric_only in DataFrameGroupBy.mean is deprecated. In a future version, numeric_only will default to False. Either specify numeric_only or select only columns which should be valid for the function.\n",
      "  df5 = df5.groupby(['cut']).mean()\n",
      "C:\\Users\\nitin\\AppData\\Local\\Temp\\ipykernel_6312\\2299203109.py:28: FutureWarning: The default value of numeric_only in DataFrameGroupBy.mean is deprecated. In a future version, numeric_only will default to False. Either specify numeric_only or select only columns which should be valid for the function.\n",
      "  df6 = df6.groupby(['cut']).mean()\n",
      "C:\\Users\\nitin\\AppData\\Local\\Temp\\ipykernel_6312\\2299203109.py:33: FutureWarning: The default value of numeric_only in DataFrameGroupBy.mean is deprecated. In a future version, numeric_only will default to False. Either specify numeric_only or select only columns which should be valid for the function.\n",
      "  df7 = df7.groupby(['cut']).mean()\n"
     ]
    },
    {
     "data": {
      "image/png": "[encoded data removed]",
      "text/plain": [
       "<Figure size 700x450 with 1 Axes>"
      ]
     },
     "metadata": {},
     "output_type": "display_data"
    }
   ],
   "source": [
    "names = ['D']\n",
    "df1 = data[data.color.isin(names)]\n",
    "df1 = df1.groupby(['cut']).mean()\n",
    "colors1 = [color for color,df in df1.groupby('cut')]\n",
    "\n",
    "names = ['E']\n",
    "df2 = data[data.color.isin(names)]\n",
    "df2 = df2.groupby(['cut']).mean()\n",
    "colors2 = [color for color,df in df2.groupby('cut')]\n",
    "\n",
    "names = ['F']\n",
    "df3 = data[data.color.isin(names)]\n",
    "df3 = df3.groupby(['cut']).mean()\n",
    "colors3 = [color for color,df in df3.groupby('cut')]\n",
    "\n",
    "names = ['G']\n",
    "df4 = data[data.color.isin(names)]\n",
    "df4 = df4.groupby(['cut']).mean()\n",
    "colors4 = [color for color,df in df4.groupby('cut')]\n",
    "\n",
    "names = ['H']\n",
    "df5 = data[data.color.isin(names)]\n",
    "df5 = df5.groupby(['cut']).mean()\n",
    "colors5 = [color for color,df in df5.groupby('cut')]\n",
    "\n",
    "names = ['I']\n",
    "df6 = data[data.color.isin(names)]\n",
    "df6 = df6.groupby(['cut']).mean()\n",
    "colors6 = [color for color,df in df6.groupby('cut')]\n",
    "\n",
    "names = ['J']\n",
    "df7 = data[data.color.isin(names)]\n",
    "df7 = df7.groupby(['cut']).mean()\n",
    "colors7 = [color for color,df in df7.groupby('cut')]\n",
    "\n",
    "df1=pd.DataFrame({'Cuts of Diamond':colors1,'Price in Rupee':df1['price(rs)']})\n",
    "df2=pd.DataFrame({'Cuts of Diamond':colors2,'Price in Rupee':df2['price(rs)']})\n",
    "df3=pd.DataFrame({'Cuts of Diamond':colors3,'Price in Rupee':df3['price(rs)']})\n",
    "df4=pd.DataFrame({'Cuts of Diamond':colors4,'Price in Rupee':df4['price(rs)']})\n",
    "df5=pd.DataFrame({'Cuts of Diamond':colors5,'Price in Rupee':df5['price(rs)']})\n",
    "df6=pd.DataFrame({'Cuts of Diamond':colors6,'Price in Rupee':df6['price(rs)']})\n",
    "df7=pd.DataFrame({'Cuts of Diamond':colors7,'Price in Rupee':df7['price(rs)']})\n",
    "\n",
    "df1['Different types of colors']='D'\n",
    "df2['Different types of colors']='E'\n",
    "df3['Different types of colors']='F'\n",
    "df4['Different types of colors']='G'\n",
    "df5['Different types of colors']='H'\n",
    "df6['Different types of colors']='I'\n",
    "df7['Different types of colors']='J'\n",
    "\n",
    "res=pd.concat([df1,df2,df3,df4,df5,df6,df7])\n",
    "fig, ax = plt.subplots(figsize=(7, 4.5))\n",
    "sns.barplot(x='Cuts of Diamond',y='Price in Rupee',data=res,hue='Different types of colors',ax=ax)\n",
    "plt.title('Cut vs Price of Diamond in differnt colors',size = 14)\n",
    "plt.legend(loc='upper center', title='Colors',fontsize=6.5)\n",
    "plt.show()"
   ]
  },
  {
   "cell_type": "markdown",
   "id": "e38a9359",
   "metadata": {},
   "source": [
    "### According to the plot, we can see variation in cut and diamod price. \n",
    "### Same as above, \n",
    "### here are relation between cut and price of diamond depend on different clarity :-"
   ]
  },
  {
   "cell_type": "code",
   "execution_count": 9,
   "id": "c47e0ef3",
   "metadata": {},
   "outputs": [
    {
     "name": "stdout",
     "output_type": "stream",
     "text": [
      "['SI2' 'SI1' 'VS1' 'VS2' 'VVS2' 'VVS1' 'I1' 'IF']\n"
     ]
    }
   ],
   "source": [
    "print(data['clarity'].unique())"
   ]
  },
  {
   "cell_type": "code",
   "execution_count": 10,
   "id": "f2ea317d",
   "metadata": {},
   "outputs": [
    {
     "name": "stderr",
     "output_type": "stream",
     "text": [
      "C:\\Users\\nitin\\AppData\\Local\\Temp\\ipykernel_6312\\89399767.py:3: FutureWarning: The default value of numeric_only in DataFrameGroupBy.mean is deprecated. In a future version, numeric_only will default to False. Either specify numeric_only or select only columns which should be valid for the function.\n",
      "  df1 = df1.groupby(['cut']).mean()\n",
      "C:\\Users\\nitin\\AppData\\Local\\Temp\\ipykernel_6312\\89399767.py:8: FutureWarning: The default value of numeric_only in DataFrameGroupBy.mean is deprecated. In a future version, numeric_only will default to False. Either specify numeric_only or select only columns which should be valid for the function.\n",
      "  df2 = df2.groupby(['cut']).mean()\n",
      "C:\\Users\\nitin\\AppData\\Local\\Temp\\ipykernel_6312\\89399767.py:13: FutureWarning: The default value of numeric_only in DataFrameGroupBy.mean is deprecated. In a future version, numeric_only will default to False. Either specify numeric_only or select only columns which should be valid for the function.\n",
      "  df3 = df3.groupby(['cut']).mean()\n",
      "C:\\Users\\nitin\\AppData\\Local\\Temp\\ipykernel_6312\\89399767.py:18: FutureWarning: The default value of numeric_only in DataFrameGroupBy.mean is deprecated. In a future version, numeric_only will default to False. Either specify numeric_only or select only columns which should be valid for the function.\n",
      "  df4 = df4.groupby(['cut']).mean()\n",
      "C:\\Users\\nitin\\AppData\\Local\\Temp\\ipykernel_6312\\89399767.py:23: FutureWarning: The default value of numeric_only in DataFrameGroupBy.mean is deprecated. In a future version, numeric_only will default to False. Either specify numeric_only or select only columns which should be valid for the function.\n",
      "  df5 = df5.groupby(['cut']).mean()\n",
      "C:\\Users\\nitin\\AppData\\Local\\Temp\\ipykernel_6312\\89399767.py:28: FutureWarning: The default value of numeric_only in DataFrameGroupBy.mean is deprecated. In a future version, numeric_only will default to False. Either specify numeric_only or select only columns which should be valid for the function.\n",
      "  df6 = df6.groupby(['cut']).mean()\n",
      "C:\\Users\\nitin\\AppData\\Local\\Temp\\ipykernel_6312\\89399767.py:33: FutureWarning: The default value of numeric_only in DataFrameGroupBy.mean is deprecated. In a future version, numeric_only will default to False. Either specify numeric_only or select only columns which should be valid for the function.\n",
      "  df7 = df7.groupby(['cut']).mean()\n",
      "C:\\Users\\nitin\\AppData\\Local\\Temp\\ipykernel_6312\\89399767.py:38: FutureWarning: The default value of numeric_only in DataFrameGroupBy.mean is deprecated. In a future version, numeric_only will default to False. Either specify numeric_only or select only columns which should be valid for the function.\n",
      "  df8 = df8.groupby(['cut']).mean()\n"
     ]
    },
    {
     "data": {
      "image/png": "[encoded data removed]",
      "text/plain": [
       "<Figure size 800x700 with 1 Axes>"
      ]
     },
     "metadata": {},
     "output_type": "display_data"
    }
   ],
   "source": [
    "names = ['SI2']\n",
    "df1 = data[data.clarity.isin(names)]\n",
    "df1 = df1.groupby(['cut']).mean()\n",
    "clarity1 = [clarity for clarity,df in df1.groupby('cut')]\n",
    "\n",
    "names = ['SI1']\n",
    "df2 = data[data.clarity.isin(names)]\n",
    "df2 = df2.groupby(['cut']).mean()\n",
    "clarity2 = [clarity for clarity,df in df2.groupby('cut')]\n",
    "\n",
    "names = ['VS1']\n",
    "df3 = data[data.clarity.isin(names)]\n",
    "df3 = df3.groupby(['cut']).mean()\n",
    "clarity3 = [clarity for clarity,df in df3.groupby('cut')]\n",
    "\n",
    "names = ['VS2']\n",
    "df4 = data[data.clarity.isin(names)]\n",
    "df4 = df4.groupby(['cut']).mean()\n",
    "clarity4 = [clarity for clarity,df in df4.groupby('cut')]\n",
    "\n",
    "names = ['VVS2']\n",
    "df5 = data[data.clarity.isin(names)]\n",
    "df5 = df5.groupby(['cut']).mean()\n",
    "clarity5 = [clarity for clarity,df in df5.groupby('cut')]\n",
    "\n",
    "names = ['VVS1']\n",
    "df6 = data[data.clarity.isin(names)]\n",
    "df6 = df6.groupby(['cut']).mean()\n",
    "clarity6 = [clarity for clarity,df in df6.groupby('cut')]\n",
    "\n",
    "names = ['I1']\n",
    "df7 = data[data.clarity.isin(names)]\n",
    "df7 = df7.groupby(['cut']).mean()\n",
    "clarity7 = [clarity for clarity,df in df7.groupby('cut')]\n",
    "\n",
    "names = ['IF']\n",
    "df8 = data[data.clarity.isin(names)]\n",
    "df8 = df8.groupby(['cut']).mean()\n",
    "clarity8 = [clarity for clarity,df in df8.groupby('cut')]\n",
    "\n",
    "df1=pd.DataFrame({'Cuts of Diamond':clarity1,'Price in Rupee':df1['price(rs)']})\n",
    "df2=pd.DataFrame({'Cuts of Diamond':clarity2,'Price in Rupee':df2['price(rs)']})\n",
    "df3=pd.DataFrame({'Cuts of Diamond':clarity3,'Price in Rupee':df3['price(rs)']})\n",
    "df4=pd.DataFrame({'Cuts of Diamond':clarity4,'Price in Rupee':df4['price(rs)']})\n",
    "df5=pd.DataFrame({'Cuts of Diamond':clarity5,'Price in Rupee':df5['price(rs)']})\n",
    "df6=pd.DataFrame({'Cuts of Diamond':clarity6,'Price in Rupee':df6['price(rs)']})\n",
    "df7=pd.DataFrame({'Cuts of Diamond':clarity7,'Price in Rupee':df7['price(rs)']})\n",
    "df8=pd.DataFrame({'Cuts of Diamond':clarity8,'Price in Rupee':df8['price(rs)']})\n",
    "\n",
    "df1['Different types of clarity']='SI2'\n",
    "df2['Different types of clarity']='SI1'\n",
    "df3['Different types of clarity']='VS1'\n",
    "df4['Different types of clarity']='VS2'\n",
    "df5['Different types of clarity']='VVS2'\n",
    "df6['Different types of clarity']='VVS1'\n",
    "df7['Different types of clarity']='I1'\n",
    "df8['Different types of clarity']='IF'\n",
    "\n",
    "res=pd.concat([df1,df2,df3,df4,df5,df6,df7,df8])\n",
    "fig, ax = plt.subplots(figsize=(8, 7))\n",
    "sns.barplot(x='Cuts of Diamond',y='Price in Rupee',data=res,hue='Different types of clarity',ax=ax)\n",
    "plt.title('Cut vs Price of Diamond in differnt clarity',size = 14)\n",
    "plt.legend(loc='upper center', title='clarity',fontsize=7.5)\n",
    "plt.show()"
   ]
  },
  {
   "cell_type": "markdown",
   "id": "3ccea0de",
   "metadata": {},
   "source": [
    "## Task: Find correlation between diamond prices and other features in the data."
   ]
  },
  {
   "cell_type": "code",
   "execution_count": 11,
   "id": "4cea5d3e",
   "metadata": {},
   "outputs": [
    {
     "name": "stdout",
     "output_type": "stream",
     "text": [
      "Unnamed: 0   -0.306873\n",
      "depth        -0.010647\n",
      "table         0.127134\n",
      "z             0.861249\n",
      "y             0.865421\n",
      "x             0.884435\n",
      "carat         0.921591\n",
      "price         1.000000\n",
      "price(rs)     1.000000\n",
      "Name: price, dtype: float64\n"
     ]
    },
    {
     "name": "stderr",
     "output_type": "stream",
     "text": [
      "C:\\Users\\nitin\\AppData\\Local\\Temp\\ipykernel_6312\\3371378732.py:1: FutureWarning: The default value of numeric_only in DataFrame.corr is deprecated. In a future version, it will default to False. Select only valid columns or specify the value of numeric_only to silence this warning.\n",
      "  correlation = data.corr()\n"
     ]
    }
   ],
   "source": [
    "correlation = data.corr()\n",
    "print(correlation[\"price\"].sort_values(ascending=True))"
   ]
  },
  {
   "cell_type": "markdown",
   "id": "476054e7",
   "metadata": {},
   "source": [
    "## Diamond Price Prediction\n",
    "### Let's create machine learing model predicting diamond prices based on different information from the diamond price analysis done above. First, convert the values of the cut and color column as it is a valuable feature to predict the price of a diamond. To use this column, we need to convert it into numerical values."
   ]
  },
  {
   "cell_type": "code",
   "execution_count": 12,
   "id": "0f11b0ee",
   "metadata": {},
   "outputs": [
    {
     "data": {
      "text/html": [
       "<div>\n",
       "<style scoped>\n",
       "    .dataframe tbody tr th:only-of-type {\n",
       "        vertical-align: middle;\n",
       "    }\n",
       "\n",
       "    .dataframe tbody tr th {\n",
       "        vertical-align: top;\n",
       "    }\n",
       "\n",
       "    .dataframe thead th {\n",
       "        text-align: right;\n",
       "    }\n",
       "</style>\n",
       "<table border=\"1\" class=\"dataframe\">\n",
       "  <thead>\n",
       "    <tr style=\"text-align: right;\">\n",
       "      <th></th>\n",
       "      <th>Unnamed: 0</th>\n",
       "      <th>carat</th>\n",
       "      <th>cut</th>\n",
       "      <th>color</th>\n",
       "      <th>clarity</th>\n",
       "      <th>depth</th>\n",
       "      <th>table</th>\n",
       "      <th>price</th>\n",
       "      <th>x</th>\n",
       "      <th>y</th>\n",
       "      <th>z</th>\n",
       "      <th>price(rs)</th>\n",
       "    </tr>\n",
       "  </thead>\n",
       "  <tbody>\n",
       "    <tr>\n",
       "      <th>0</th>\n",
       "      <td>1</td>\n",
       "      <td>0.23</td>\n",
       "      <td>1</td>\n",
       "      <td>E</td>\n",
       "      <td>SI2</td>\n",
       "      <td>61.5</td>\n",
       "      <td>55.0</td>\n",
       "      <td>326</td>\n",
       "      <td>3.95</td>\n",
       "      <td>3.98</td>\n",
       "      <td>2.43</td>\n",
       "      <td>26953.68</td>\n",
       "    </tr>\n",
       "    <tr>\n",
       "      <th>1</th>\n",
       "      <td>2</td>\n",
       "      <td>0.21</td>\n",
       "      <td>2</td>\n",
       "      <td>E</td>\n",
       "      <td>SI1</td>\n",
       "      <td>59.8</td>\n",
       "      <td>61.0</td>\n",
       "      <td>326</td>\n",
       "      <td>3.89</td>\n",
       "      <td>3.84</td>\n",
       "      <td>2.31</td>\n",
       "      <td>26953.68</td>\n",
       "    </tr>\n",
       "    <tr>\n",
       "      <th>2</th>\n",
       "      <td>3</td>\n",
       "      <td>0.23</td>\n",
       "      <td>3</td>\n",
       "      <td>E</td>\n",
       "      <td>VS1</td>\n",
       "      <td>56.9</td>\n",
       "      <td>65.0</td>\n",
       "      <td>327</td>\n",
       "      <td>4.05</td>\n",
       "      <td>4.07</td>\n",
       "      <td>2.31</td>\n",
       "      <td>27036.36</td>\n",
       "    </tr>\n",
       "    <tr>\n",
       "      <th>3</th>\n",
       "      <td>4</td>\n",
       "      <td>0.29</td>\n",
       "      <td>2</td>\n",
       "      <td>I</td>\n",
       "      <td>VS2</td>\n",
       "      <td>62.4</td>\n",
       "      <td>58.0</td>\n",
       "      <td>334</td>\n",
       "      <td>4.20</td>\n",
       "      <td>4.23</td>\n",
       "      <td>2.63</td>\n",
       "      <td>27615.12</td>\n",
       "    </tr>\n",
       "    <tr>\n",
       "      <th>4</th>\n",
       "      <td>5</td>\n",
       "      <td>0.31</td>\n",
       "      <td>3</td>\n",
       "      <td>J</td>\n",
       "      <td>SI2</td>\n",
       "      <td>63.3</td>\n",
       "      <td>58.0</td>\n",
       "      <td>335</td>\n",
       "      <td>4.34</td>\n",
       "      <td>4.35</td>\n",
       "      <td>2.75</td>\n",
       "      <td>27697.80</td>\n",
       "    </tr>\n",
       "  </tbody>\n",
       "</table>\n",
       "</div>"
      ],
      "text/plain": [
       "   Unnamed: 0  carat  cut color clarity  depth  table  price     x     y  \\\n",
       "0           1   0.23    1     E     SI2   61.5   55.0    326  3.95  3.98   \n",
       "1           2   0.21    2     E     SI1   59.8   61.0    326  3.89  3.84   \n",
       "2           3   0.23    3     E     VS1   56.9   65.0    327  4.05  4.07   \n",
       "3           4   0.29    2     I     VS2   62.4   58.0    334  4.20  4.23   \n",
       "4           5   0.31    3     J     SI2   63.3   58.0    335  4.34  4.35   \n",
       "\n",
       "      z  price(rs)  \n",
       "0  2.43   26953.68  \n",
       "1  2.31   26953.68  \n",
       "2  2.31   27036.36  \n",
       "3  2.63   27615.12  \n",
       "4  2.75   27697.80  "
      ]
     },
     "execution_count": 12,
     "metadata": {},
     "output_type": "execute_result"
    }
   ],
   "source": [
    "data[\"cut\"] = data[\"cut\"].map({\"Ideal\": 1, \n",
    "                               \"Premium\": 2, \n",
    "                               \"Good\": 3,\n",
    "                               \"Very Good\": 4,\n",
    "                               \"Fair\": 5})\n",
    "data.head(5)"
   ]
  },
  {
   "cell_type": "code",
   "execution_count": 13,
   "id": "2282826c",
   "metadata": {},
   "outputs": [],
   "source": [
    "data[\"color\"] = data[\"color\"].map({\"D\": 1, \n",
    "                                   \"E\": 2, \n",
    "                                   \"F\": 3,\n",
    "                                   \"G\": 4,\n",
    "                                   \"H\": 5,\n",
    "                                   \"I\": 6,\n",
    "                                   \"J\": 7})"
   ]
  },
  {
   "cell_type": "code",
   "execution_count": 14,
   "id": "d2c5bb93",
   "metadata": {},
   "outputs": [],
   "source": [
    "'SI2' 'SI1' 'VS1' 'VS2' 'VVS2' 'VVS1' 'I1' 'IF'\n",
    "\n",
    "data[\"clarity\"] = data[\"clarity\"].map({\"SI2\": 1, \n",
    "                                   \"SI1\": 2, \n",
    "                                   \"VS1\": 3,\n",
    "                                   \"VS2\": 4,\n",
    "                                   \"VVS2\": 5,\n",
    "                                   \"VVS1\": 6,\n",
    "                                   \"I1\": 7,\n",
    "                                   \"IF\": 8})"
   ]
  },
  {
   "cell_type": "markdown",
   "id": "ab6a7d7c",
   "metadata": {},
   "source": [
    "#### Spliting Data into train data(80%) and test data(20%)"
   ]
  },
  {
   "cell_type": "code",
   "execution_count": 15,
   "id": "0ec96555",
   "metadata": {},
   "outputs": [
    {
     "data": {
      "text/html": [
       "<div>\n",
       "<style scoped>\n",
       "    .dataframe tbody tr th:only-of-type {\n",
       "        vertical-align: middle;\n",
       "    }\n",
       "\n",
       "    .dataframe tbody tr th {\n",
       "        vertical-align: top;\n",
       "    }\n",
       "\n",
       "    .dataframe thead th {\n",
       "        text-align: right;\n",
       "    }\n",
       "</style>\n",
       "<table border=\"1\" class=\"dataframe\">\n",
       "  <thead>\n",
       "    <tr style=\"text-align: right;\">\n",
       "      <th></th>\n",
       "      <th>Unnamed: 0</th>\n",
       "      <th>carat</th>\n",
       "      <th>cut</th>\n",
       "      <th>color</th>\n",
       "      <th>clarity</th>\n",
       "      <th>depth</th>\n",
       "      <th>table</th>\n",
       "      <th>price</th>\n",
       "      <th>x</th>\n",
       "      <th>y</th>\n",
       "      <th>z</th>\n",
       "      <th>price(rs)</th>\n",
       "    </tr>\n",
       "  </thead>\n",
       "  <tbody>\n",
       "    <tr>\n",
       "      <th>0</th>\n",
       "      <td>1</td>\n",
       "      <td>0.23</td>\n",
       "      <td>1</td>\n",
       "      <td>2</td>\n",
       "      <td>1</td>\n",
       "      <td>61.5</td>\n",
       "      <td>55.0</td>\n",
       "      <td>326</td>\n",
       "      <td>3.95</td>\n",
       "      <td>3.98</td>\n",
       "      <td>2.43</td>\n",
       "      <td>26953.68</td>\n",
       "    </tr>\n",
       "    <tr>\n",
       "      <th>1</th>\n",
       "      <td>2</td>\n",
       "      <td>0.21</td>\n",
       "      <td>2</td>\n",
       "      <td>2</td>\n",
       "      <td>2</td>\n",
       "      <td>59.8</td>\n",
       "      <td>61.0</td>\n",
       "      <td>326</td>\n",
       "      <td>3.89</td>\n",
       "      <td>3.84</td>\n",
       "      <td>2.31</td>\n",
       "      <td>26953.68</td>\n",
       "    </tr>\n",
       "    <tr>\n",
       "      <th>2</th>\n",
       "      <td>3</td>\n",
       "      <td>0.23</td>\n",
       "      <td>3</td>\n",
       "      <td>2</td>\n",
       "      <td>3</td>\n",
       "      <td>56.9</td>\n",
       "      <td>65.0</td>\n",
       "      <td>327</td>\n",
       "      <td>4.05</td>\n",
       "      <td>4.07</td>\n",
       "      <td>2.31</td>\n",
       "      <td>27036.36</td>\n",
       "    </tr>\n",
       "    <tr>\n",
       "      <th>3</th>\n",
       "      <td>4</td>\n",
       "      <td>0.29</td>\n",
       "      <td>2</td>\n",
       "      <td>6</td>\n",
       "      <td>4</td>\n",
       "      <td>62.4</td>\n",
       "      <td>58.0</td>\n",
       "      <td>334</td>\n",
       "      <td>4.20</td>\n",
       "      <td>4.23</td>\n",
       "      <td>2.63</td>\n",
       "      <td>27615.12</td>\n",
       "    </tr>\n",
       "    <tr>\n",
       "      <th>4</th>\n",
       "      <td>5</td>\n",
       "      <td>0.31</td>\n",
       "      <td>3</td>\n",
       "      <td>7</td>\n",
       "      <td>1</td>\n",
       "      <td>63.3</td>\n",
       "      <td>58.0</td>\n",
       "      <td>335</td>\n",
       "      <td>4.34</td>\n",
       "      <td>4.35</td>\n",
       "      <td>2.75</td>\n",
       "      <td>27697.80</td>\n",
       "    </tr>\n",
       "  </tbody>\n",
       "</table>\n",
       "</div>"
      ],
      "text/plain": [
       "   Unnamed: 0  carat  cut  color  clarity  depth  table  price     x     y  \\\n",
       "0           1   0.23    1      2        1   61.5   55.0    326  3.95  3.98   \n",
       "1           2   0.21    2      2        2   59.8   61.0    326  3.89  3.84   \n",
       "2           3   0.23    3      2        3   56.9   65.0    327  4.05  4.07   \n",
       "3           4   0.29    2      6        4   62.4   58.0    334  4.20  4.23   \n",
       "4           5   0.31    3      7        1   63.3   58.0    335  4.34  4.35   \n",
       "\n",
       "      z  price(rs)  \n",
       "0  2.43   26953.68  \n",
       "1  2.31   26953.68  \n",
       "2  2.31   27036.36  \n",
       "3  2.63   27615.12  \n",
       "4  2.75   27697.80  "
      ]
     },
     "execution_count": 15,
     "metadata": {},
     "output_type": "execute_result"
    }
   ],
   "source": [
    "data.head()"
   ]
  },
  {
   "cell_type": "code",
   "execution_count": 16,
   "id": "4c359ff1",
   "metadata": {},
   "outputs": [],
   "source": [
    "# -----------Machine Learning Model---------------\n",
    "\n",
    "from sklearn.model_selection import train_test_split\n",
    "x = np.array(data[[\"carat\", \"cut\", \"color\",\"clarity\"]])\n",
    "y = np.array(data[[\"price(rs)\"]])\n",
    "\n",
    "xtrain, xtest, ytrain, ytest = train_test_split(x, y, \n",
    "                                                test_size=0.2, \n",
    "                                                random_state=42)"
   ]
  },
  {
   "cell_type": "code",
   "execution_count": 17,
   "id": "8a38c056",
   "metadata": {},
   "outputs": [
    {
     "data": {
      "text/plain": [
       "array([[2.01, 3.  , 3.  , 1.  ],\n",
       "       [1.01, 4.  , 2.  , 1.  ],\n",
       "       [1.1 , 2.  , 5.  , 4.  ],\n",
       "       ...,\n",
       "       [0.33, 4.  , 3.  , 8.  ],\n",
       "       [0.9 , 2.  , 7.  , 2.  ],\n",
       "       [1.14, 2.  , 3.  , 2.  ]])"
      ]
     },
     "execution_count": 17,
     "metadata": {},
     "output_type": "execute_result"
    }
   ],
   "source": [
    "xtrain"
   ]
  },
  {
   "cell_type": "code",
   "execution_count": 18,
   "id": "b0b7cf41",
   "metadata": {},
   "outputs": [
    {
     "data": {
      "text/plain": [
       "array([[1341979.08],\n",
       "       [ 375367.2 ],\n",
       "       [ 473673.72],\n",
       "       ...,\n",
       "       [  83837.52],\n",
       "       [ 237374.28],\n",
       "       [ 522537.6 ]])"
      ]
     },
     "execution_count": 18,
     "metadata": {},
     "output_type": "execute_result"
    }
   ],
   "source": [
    "ytrain"
   ]
  },
  {
   "cell_type": "code",
   "execution_count": 21,
   "id": "42501c0a",
   "metadata": {},
   "outputs": [
    {
     "data": {
      "text/plain": [
       "array([[0.24, 1.  , 4.  , 6.  ],\n",
       "       [0.58, 4.  , 3.  , 5.  ],\n",
       "       [0.4 , 1.  , 2.  , 5.  ],\n",
       "       ...,\n",
       "       [0.31, 3.  , 4.  , 6.  ],\n",
       "       [1.23, 1.  , 3.  , 3.  ],\n",
       "       [1.08, 3.  , 7.  , 1.  ]])"
      ]
     },
     "execution_count": 21,
     "metadata": {},
     "output_type": "execute_result"
    }
   ],
   "source": [
    "xtest"
   ]
  },
  {
   "cell_type": "code",
   "execution_count": 22,
   "id": "86bb456f",
   "metadata": {},
   "outputs": [
    {
     "data": {
      "text/plain": [
       "array([[ 46218.12],\n",
       "       [181978.68],\n",
       "       [102357.84],\n",
       "       ...,\n",
       "       [ 62919.48],\n",
       "       [813240.48],\n",
       "       [309388.56]])"
      ]
     },
     "execution_count": 22,
     "metadata": {},
     "output_type": "execute_result"
    }
   ],
   "source": [
    "ytest"
   ]
  },
  {
   "cell_type": "markdown",
   "id": "07f6e1ec",
   "metadata": {},
   "source": [
    "### train a machine learning model for the task of diamond price prediction:"
   ]
  },
  {
   "cell_type": "code",
   "execution_count": 19,
   "id": "01c3b848",
   "metadata": {},
   "outputs": [
    {
     "name": "stderr",
     "output_type": "stream",
     "text": [
      "C:\\Users\\nitin\\AppData\\Local\\Temp\\ipykernel_6312\\2944638855.py:3: DataConversionWarning: A column-vector y was passed when a 1d array was expected. Please change the shape of y to (n_samples,), for example using ravel().\n",
      "  model.fit(xtrain, ytrain)\n"
     ]
    },
    {
     "data": {
      "text/html": [
       "<style>#sk-container-id-1 {color: black;background-color: white;}#sk-container-id-1 pre{padding: 0;}#sk-container-id-1 div.sk-toggleable {background-color: white;}#sk-container-id-1 label.sk-toggleable__label {cursor: pointer;display: block;width: 100%;margin-bottom: 0;padding: 0.3em;box-sizing: border-box;text-align: center;}#sk-container-id-1 label.sk-toggleable__label-arrow:before {content: \"▸\";float: left;margin-right: 0.25em;color: #696969;}#sk-container-id-1 label.sk-toggleable__label-arrow:hover:before {color: black;}#sk-container-id-1 div.sk-estimator:hover label.sk-toggleable__label-arrow:before {color: black;}#sk-container-id-1 div.sk-toggleable__content {max-height: 0;max-width: 0;overflow: hidden;text-align: left;background-color: #f0f8ff;}#sk-container-id-1 div.sk-toggleable__content pre {margin: 0.2em;color: black;border-radius: 0.25em;background-color: #f0f8ff;}#sk-container-id-1 input.sk-toggleable__control:checked~div.sk-toggleable__content {max-height: 200px;max-width: 100%;overflow: auto;}#sk-container-id-1 input.sk-toggleable__control:checked~label.sk-toggleable__label-arrow:before {content: \"▾\";}#sk-container-id-1 div.sk-estimator input.sk-toggleable__control:checked~label.sk-toggleable__label {background-color: #d4ebff;}#sk-container-id-1 div.sk-label input.sk-toggleable__control:checked~label.sk-toggleable__label {background-color: #d4ebff;}#sk-container-id-1 input.sk-hidden--visually {border: 0;clip: rect(1px 1px 1px 1px);clip: rect(1px, 1px, 1px, 1px);height: 1px;margin: -1px;overflow: hidden;padding: 0;position: absolute;width: 1px;}#sk-container-id-1 div.sk-estimator {font-family: monospace;background-color: #f0f8ff;border: 1px dotted black;border-radius: 0.25em;box-sizing: border-box;margin-bottom: 0.5em;}#sk-container-id-1 div.sk-estimator:hover {background-color: #d4ebff;}#sk-container-id-1 div.sk-parallel-item::after {content: \"\";width: 100%;border-bottom: 1px solid gray;flex-grow: 1;}#sk-container-id-1 div.sk-label:hover label.sk-toggleable__label {background-color: #d4ebff;}#sk-container-id-1 div.sk-serial::before {content: \"\";position: absolute;border-left: 1px solid gray;box-sizing: border-box;top: 0;bottom: 0;left: 50%;z-index: 0;}#sk-container-id-1 div.sk-serial {display: flex;flex-direction: column;align-items: center;background-color: white;padding-right: 0.2em;padding-left: 0.2em;position: relative;}#sk-container-id-1 div.sk-item {position: relative;z-index: 1;}#sk-container-id-1 div.sk-parallel {display: flex;align-items: stretch;justify-content: center;background-color: white;position: relative;}#sk-container-id-1 div.sk-item::before, #sk-container-id-1 div.sk-parallel-item::before {content: \"\";position: absolute;border-left: 1px solid gray;box-sizing: border-box;top: 0;bottom: 0;left: 50%;z-index: -1;}#sk-container-id-1 div.sk-parallel-item {display: flex;flex-direction: column;z-index: 1;position: relative;background-color: white;}#sk-container-id-1 div.sk-parallel-item:first-child::after {align-self: flex-end;width: 50%;}#sk-container-id-1 div.sk-parallel-item:last-child::after {align-self: flex-start;width: 50%;}#sk-container-id-1 div.sk-parallel-item:only-child::after {width: 0;}#sk-container-id-1 div.sk-dashed-wrapped {border: 1px dashed gray;margin: 0 0.4em 0.5em 0.4em;box-sizing: border-box;padding-bottom: 0.4em;background-color: white;}#sk-container-id-1 div.sk-label label {font-family: monospace;font-weight: bold;display: inline-block;line-height: 1.2em;}#sk-container-id-1 div.sk-label-container {text-align: center;}#sk-container-id-1 div.sk-container {/* jupyter's `normalize.less` sets `[hidden] { display: none; }` but bootstrap.min.css set `[hidden] { display: none !important; }` so we also need the `!important` here to be able to override the default hidden behavior on the sphinx rendered scikit-learn.org. See: https://github.com/scikit-learn/scikit-learn/issues/21755 */display: inline-block !important;position: relative;}#sk-container-id-1 div.sk-text-repr-fallback {display: none;}</style><div id=\"sk-container-id-1\" class=\"sk-top-container\"><div class=\"sk-text-repr-fallback\"><pre>RandomForestRegressor()</pre><b>In a Jupyter environment, please rerun this cell to show the HTML representation or trust the notebook. <br />On GitHub, the HTML representation is unable to render, please try loading this page with nbviewer.org.</b></div><div class=\"sk-container\" hidden><div class=\"sk-item\"><div class=\"sk-estimator sk-toggleable\"><input class=\"sk-toggleable__control sk-hidden--visually\" id=\"sk-estimator-id-1\" type=\"checkbox\" checked><label for=\"sk-estimator-id-1\" class=\"sk-toggleable__label sk-toggleable__label-arrow\">RandomForestRegressor</label><div class=\"sk-toggleable__content\"><pre>RandomForestRegressor()</pre></div></div></div></div></div>"
      ],
      "text/plain": [
       "RandomForestRegressor()"
      ]
     },
     "execution_count": 19,
     "metadata": {},
     "output_type": "execute_result"
    }
   ],
   "source": [
    "from sklearn.ensemble import RandomForestRegressor\n",
    "model = RandomForestRegressor()\n",
    "model.fit(xtrain, ytrain)"
   ]
  },
  {
   "cell_type": "code",
   "execution_count": 23,
   "id": "c50c0f90",
   "metadata": {},
   "outputs": [
    {
     "name": "stdout",
     "output_type": "stream",
     "text": [
      "\n",
      "\n",
      " Enter the details of 4C's of Diamond to predict price:-\n",
      "Enter Carat: 0.24\n",
      "1 : Ideal\n",
      "2 : Premium\n",
      "3 : Good\n",
      "4 : Very Good\n",
      "5 : Fair\n",
      "Enter cut : 1\n",
      "D : 1\n",
      "E : 2\n",
      "F : 3\n",
      "G : 4\n",
      "H : 5\n",
      "I : 6\n",
      "J : 7\n",
      "Enter color : 4\n",
      "1 : SI2\n",
      "2 : SI1\n",
      "3 : VS1\n",
      "4 : VS2\n",
      "5 : VVS2\n",
      "6 : VVS1\n",
      "Enter Clarity : 6\n",
      "\n",
      "\n",
      "Cut =  1   Carat =  0.24   Color =  4   Clarity =  6 \n",
      "\n",
      "Predicted Diamond's Price =  [46207.70232]  Indian Rupees\n"
     ]
    }
   ],
   "source": [
    "print(\"\\n\\n Enter the details of 4C's of Diamond to predict price:-\")\n",
    "a = float(input(\"Enter Carat: \"))\n",
    "b = int(input(\"1 : Ideal\\n2 : Premium\\n3 : Good\\n4 : Very Good\\n5 : Fair\\nEnter cut : \"))\n",
    "c = int(input(\"D : 1\\nE : 2\\nF : 3\\nG : 4\\nH : 5\\nI : 6\\nJ : 7\\nEnter color : \"))\n",
    "d = int(input(\"1 : SI2\\n2 : SI1\\n3 : VS1\\n4 : VS2\\n5 : VVS2\\n6 : VVS1\\nEnter Clarity : \"))\n",
    "features = np.array([[a, b, c, d]])\n",
    "print(\"\\n\\nCut = \",b,\"  Carat = \",a,\"  Color = \",c,\"  Clarity = \",d,\"\\n\\nPredicted Diamond's Price = \", model.predict(features),\" Indian Rupees\")"
   ]
  },
  {
   "cell_type": "markdown",
   "id": "809482d1",
   "metadata": {},
   "source": [
    "# Summary\n",
    "### According to the diamond price analysis, we can say that  According to this analysis machine learning model, I can say that the price of premium diamonds are higher than other types of diamonds."
   ]
  }
 ],
 "metadata": {
  "kernelspec": {
   "display_name": "Python 3 (ipykernel)",
   "language": "python",
   "name": "python3"
  },
  "language_info": {
   "codemirror_mode": {
    "name": "ipython",
    "version": 3
   },
   "file_extension": ".py",
   "mimetype": "text/x-python",
   "name": "python",
   "nbconvert_exporter": "python",
   "pygments_lexer": "ipython3",
   "version": "3.11.1"
  }
 },
 "nbformat": 4,
 "nbformat_minor": 5
}
